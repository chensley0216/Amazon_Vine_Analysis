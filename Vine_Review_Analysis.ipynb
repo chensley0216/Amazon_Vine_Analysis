{
  "nbformat": 4,
  "nbformat_minor": 0,
  "metadata": {
    "colab": {
      "name": "Vine_Review_Analysis.ipynb",
      "provenance": [],
      "collapsed_sections": []
    },
    "kernelspec": {
      "name": "python3",
      "display_name": "Python 3"
    },
    "language_info": {
      "name": "python"
    }
  },
  "cells": [
    {
      "cell_type": "code",
      "execution_count": 1,
      "metadata": {
        "colab": {
          "base_uri": "https://localhost:8080/"
        },
        "id": "iaAx1Rb4iT6v",
        "outputId": "9f447a42-9689-436d-9754-c00b9720a787"
      },
      "outputs": [
        {
          "output_type": "stream",
          "name": "stdout",
          "text": [
            "Hit:1 https://developer.download.nvidia.com/compute/cuda/repos/ubuntu1804/x86_64  InRelease\n",
            "Ign:2 https://developer.download.nvidia.com/compute/machine-learning/repos/ubuntu1804/x86_64  InRelease\n",
            "Hit:3 https://developer.download.nvidia.com/compute/machine-learning/repos/ubuntu1804/x86_64  Release\n",
            "Get:4 https://cloud.r-project.org/bin/linux/ubuntu bionic-cran40/ InRelease [3,626 B]\n",
            "Get:5 http://security.ubuntu.com/ubuntu bionic-security InRelease [88.7 kB]\n",
            "Hit:6 http://archive.ubuntu.com/ubuntu bionic InRelease\n",
            "Get:7 http://archive.ubuntu.com/ubuntu bionic-updates InRelease [88.7 kB]\n",
            "Hit:8 http://ppa.launchpad.net/c2d4u.team/c2d4u4.0+/ubuntu bionic InRelease\n",
            "Get:9 http://archive.ubuntu.com/ubuntu bionic-backports InRelease [74.6 kB]\n",
            "Hit:10 http://ppa.launchpad.net/cran/libgit2/ubuntu bionic InRelease\n",
            "Hit:12 http://ppa.launchpad.net/deadsnakes/ppa/ubuntu bionic InRelease\n",
            "Hit:13 http://ppa.launchpad.net/graphics-drivers/ppa/ubuntu bionic InRelease\n",
            "Get:14 http://archive.ubuntu.com/ubuntu bionic-updates/restricted amd64 Packages [1,040 kB]\n",
            "Get:15 http://security.ubuntu.com/ubuntu bionic-security/multiverse amd64 Packages [22.8 kB]\n",
            "Get:16 http://archive.ubuntu.com/ubuntu bionic-updates/universe amd64 Packages [2,297 kB]\n",
            "Get:17 http://security.ubuntu.com/ubuntu bionic-security/main amd64 Packages [2,861 kB]\n",
            "Get:18 http://archive.ubuntu.com/ubuntu bionic-updates/main amd64 Packages [3,294 kB]\n",
            "Get:19 http://archive.ubuntu.com/ubuntu bionic-updates/multiverse amd64 Packages [29.8 kB]\n",
            "Get:20 http://archive.ubuntu.com/ubuntu bionic-backports/main amd64 Packages [12.2 kB]\n",
            "Get:21 http://security.ubuntu.com/ubuntu bionic-security/restricted amd64 Packages [1,006 kB]\n",
            "Get:22 http://security.ubuntu.com/ubuntu bionic-security/universe amd64 Packages [1,521 kB]\n",
            "Fetched 12.3 MB in 4s (2,762 kB/s)\n",
            "Reading package lists... Done\n"
          ]
        }
      ],
      "source": [
        "import os\n",
        "# Find the latest version of spark 3.0 from http://www.apache.org/dist/spark/ and enter as the spark version\n",
        "# For example:\n",
        "# spark_version = 'spark-3.0.3'\n",
        "spark_version = 'spark-3.0.3'\n",
        "os.environ['SPARK_VERSION']=spark_version\n",
        "\n",
        "# Install Spark and Java\n",
        "!apt-get update\n",
        "!apt-get install openjdk-11-jdk-headless -qq > /dev/null\n",
        "!wget -q http://www.apache.org/dist/spark/$SPARK_VERSION/$SPARK_VERSION-bin-hadoop2.7.tgz\n",
        "!tar xf $SPARK_VERSION-bin-hadoop2.7.tgz\n",
        "!pip install -q findspark\n",
        "\n",
        "# Set Environment Variables\n",
        "import os\n",
        "os.environ[\"JAVA_HOME\"] = \"/usr/lib/jvm/java-11-openjdk-amd64\"\n",
        "os.environ[\"SPARK_HOME\"] = f\"/content/{spark_version}-bin-hadoop2.7\"\n",
        "\n",
        "# Start a SparkSession\n",
        "import findspark\n",
        "findspark.init()"
      ]
    },
    {
      "cell_type": "code",
      "source": [
        "from pyspark.sql import SparkSession\n",
        "spark = SparkSession.builder.appName(\"M16-Amazon-Challenge\").config(\"spark.driver.extraClassPath\",\"/content/postgresql-42.2.16.jar\").getOrCreate()"
      ],
      "metadata": {
        "id": "gyRJ-GfZisCe"
      },
      "execution_count": 2,
      "outputs": []
    },
    {
      "cell_type": "code",
      "source": [
        "from pyspark import SparkFiles\n",
        "url = \"https://s3.amazonaws.com/amazon-reviews-pds/tsv/amazon_reviews_us_Video_Games_v1_00.tsv.gz\"\n",
        "spark.sparkContext.addFile(url)\n",
        "df = spark.read.option(\"encoding\", \"UTF-8\").csv(SparkFiles.get(\"\"), sep=\"\\t\", header=True, inferSchema=True)\n",
        "df.show()"
      ],
      "metadata": {
        "colab": {
          "base_uri": "https://localhost:8080/"
        },
        "id": "FwIk_OYRiwwb",
        "outputId": "1ae6fe80-0f73-41e8-8c06-1b5f862e6567"
      },
      "execution_count": 3,
      "outputs": [
        {
          "output_type": "stream",
          "name": "stdout",
          "text": [
            "+-----------+-----------+--------------+----------+--------------+--------------------+----------------+-----------+-------------+-----------+----+-----------------+--------------------+--------------------+-----------+\n",
            "|marketplace|customer_id|     review_id|product_id|product_parent|       product_title|product_category|star_rating|helpful_votes|total_votes|vine|verified_purchase|     review_headline|         review_body|review_date|\n",
            "+-----------+-----------+--------------+----------+--------------+--------------------+----------------+-----------+-------------+-----------+----+-----------------+--------------------+--------------------+-----------+\n",
            "|         US|   12039526| RTIS3L2M1F5SM|B001CXYMFS|     737716809|Thrustmaster T-Fl...|     Video Games|          5|            0|          0|   N|                Y|an amazing joysti...|Used this for Eli...| 2015-08-31|\n",
            "|         US|    9636577| R1ZV7R40OLHKD|B00M920ND6|     569686175|Tonsee 6 buttons ...|     Video Games|          5|            0|          0|   N|                Y|Definitely a sile...|Loved it,  I didn...| 2015-08-31|\n",
            "|         US|    2331478|R3BH071QLH8QMC|B0029CSOD2|      98937668|Hidden Mysteries:...|     Video Games|          1|            0|          1|   N|                Y|            One Star|poor quality work...| 2015-08-31|\n",
            "|         US|   52495923|R127K9NTSXA2YH|B00GOOSV98|      23143350|GelTabz Performan...|     Video Games|          3|            0|          0|   N|                Y|good, but could b...|nice, but tend to...| 2015-08-31|\n",
            "|         US|   14533949|R32ZWUXDJPW27Q|B00Y074JOM|     821342511|Zero Suit Samus a...|     Video Games|          4|            0|          0|   N|                Y|   Great but flawed.|Great amiibo, gre...| 2015-08-31|\n",
            "|         US|    2377552|R3AQQ4YUKJWBA6|B002UBI6W6|     328764615|Psyclone Recharge...|     Video Games|          1|            0|          0|   N|                Y|            One Star|The remote consta...| 2015-08-31|\n",
            "|         US|   17521011|R2F0POU5K6F73F|B008XHCLFO|      24234603|Protection for yo...|     Video Games|          5|            0|          0|   N|                Y|              A Must|I have a 2012-201...| 2015-08-31|\n",
            "|         US|   19676307|R3VNR804HYSMR6|B00BRA9R6A|     682267517|   Nerf 3DS XL Armor|     Video Games|          5|            0|          0|   N|                Y|          Five Stars|Perfect, kids lov...| 2015-08-31|\n",
            "|         US|     224068| R3GZTM72WA2QH|B009EPWJLA|     435241890|One Piece: Pirate...|     Video Games|          5|            0|          0|   N|                Y|          Five Stars|            Excelent| 2015-08-31|\n",
            "|         US|   48467989| RNQOY62705W1K|B0000AV7GB|     256572651|Playstation 2 Dan...|     Video Games|          4|            0|          0|   N|                Y|          Four Stars|Slippery but expe...| 2015-08-31|\n",
            "|         US|     106569|R1VTIA3JTYBY02|B00008KTNN|     384411423|Metal Arms: Glitc...|     Video Games|          5|            0|          0|   N|                N|          Five Stars|Love the game. Se...| 2015-08-31|\n",
            "|         US|   48269642|R29DOU8791QZL8|B000A3IA0Y|     472622859|72 Pin Connector ...|     Video Games|          1|            0|          0|   N|                Y| Game will get stuck|Does not fit prop...| 2015-08-31|\n",
            "|         US|   52738710|R15DUT1VIJ9RJZ|B0053BQN34|     577628462|uDraw Gametablet ...|     Video Games|          2|            0|          0|   N|                Y|We have tried it ...|This was way too ...| 2015-08-31|\n",
            "|         US|   10556786|R3IMF2MQ3OU9ZM|B002I0HIMI|     988218515|NBA 2K12(Covers M...|     Video Games|          4|            0|          0|   N|                Y|          Four Stars|Works great good ...| 2015-08-31|\n",
            "|         US|    2963837|R23H79DHOZTYAU|B0081EH12M|     770100932|New Trigger Grips...|     Video Games|          1|            1|          1|   N|                Y|Now i have to buy...|It did not fit th...| 2015-08-31|\n",
            "|         US|   23092109| RIV24EQAIXA4O|B005FMLZQQ|      24647669|Xbox 360 Media Re...|     Video Games|          5|            0|          0|   N|                Y|          Five Stars|perfect lightweig...| 2015-08-31|\n",
            "|         US|   23091728|R3UCNGYDVN24YB|B002BSA388|      33706205|Super Mario Galaxy 2|     Video Games|          5|            0|          0|   N|                Y|          Five Stars|               great| 2015-08-31|\n",
            "|         US|   10712640| RUL4H4XTTN2DY|B00BUSLSAC|     829667834|Nintendo 3DS XL -...|     Video Games|          5|            0|          0|   N|                Y|          Five Stars|Works beautifully...| 2015-08-31|\n",
            "|         US|   17455376|R20JF7Z4DHTNX5|B00KWF38AW|     110680188|Captain Toad:  Tr...|     Video Games|          5|            0|          0|   N|                Y|          Five Stars|Kids loved the ga...| 2015-08-31|\n",
            "|         US|   14754850|R2T1AJ5MFI2260|B00BRQJYA8|     616463426|Lego Batman 2: DC...|     Video Games|          4|            0|          0|   N|                Y|          Four Stars|           Goodngame| 2015-08-31|\n",
            "+-----------+-----------+--------------+----------+--------------+--------------------+----------------+-----------+-------------+-----------+----+-----------------+--------------------+--------------------+-----------+\n",
            "only showing top 20 rows\n",
            "\n"
          ]
        }
      ]
    },
    {
      "cell_type": "code",
      "source": [
        "# Recreate the vine_table DataFrame\n",
        "vine_df = df.select([\"review_id\", \"star_rating\", \"vine\", \"verified_purchase\", \"helpful_votes\", \"total_votes\",])\n",
        "vine_df.show(20)"
      ],
      "metadata": {
        "colab": {
          "base_uri": "https://localhost:8080/"
        },
        "id": "72bhbaVvi2cR",
        "outputId": "7888ea0f-ab17-4dab-9f21-f7068c36d9f9"
      },
      "execution_count": 4,
      "outputs": [
        {
          "output_type": "stream",
          "name": "stdout",
          "text": [
            "+--------------+-----------+----+-----------------+-------------+-----------+\n",
            "|     review_id|star_rating|vine|verified_purchase|helpful_votes|total_votes|\n",
            "+--------------+-----------+----+-----------------+-------------+-----------+\n",
            "| RTIS3L2M1F5SM|          5|   N|                Y|            0|          0|\n",
            "| R1ZV7R40OLHKD|          5|   N|                Y|            0|          0|\n",
            "|R3BH071QLH8QMC|          1|   N|                Y|            0|          1|\n",
            "|R127K9NTSXA2YH|          3|   N|                Y|            0|          0|\n",
            "|R32ZWUXDJPW27Q|          4|   N|                Y|            0|          0|\n",
            "|R3AQQ4YUKJWBA6|          1|   N|                Y|            0|          0|\n",
            "|R2F0POU5K6F73F|          5|   N|                Y|            0|          0|\n",
            "|R3VNR804HYSMR6|          5|   N|                Y|            0|          0|\n",
            "| R3GZTM72WA2QH|          5|   N|                Y|            0|          0|\n",
            "| RNQOY62705W1K|          4|   N|                Y|            0|          0|\n",
            "|R1VTIA3JTYBY02|          5|   N|                N|            0|          0|\n",
            "|R29DOU8791QZL8|          1|   N|                Y|            0|          0|\n",
            "|R15DUT1VIJ9RJZ|          2|   N|                Y|            0|          0|\n",
            "|R3IMF2MQ3OU9ZM|          4|   N|                Y|            0|          0|\n",
            "|R23H79DHOZTYAU|          1|   N|                Y|            1|          1|\n",
            "| RIV24EQAIXA4O|          5|   N|                Y|            0|          0|\n",
            "|R3UCNGYDVN24YB|          5|   N|                Y|            0|          0|\n",
            "| RUL4H4XTTN2DY|          5|   N|                Y|            0|          0|\n",
            "|R20JF7Z4DHTNX5|          5|   N|                Y|            0|          0|\n",
            "|R2T1AJ5MFI2260|          4|   N|                Y|            0|          0|\n",
            "+--------------+-----------+----+-----------------+-------------+-----------+\n",
            "only showing top 20 rows\n",
            "\n"
          ]
        }
      ]
    },
    {
      "cell_type": "code",
      "source": [
        "# Filter the data and create a new DataFrame or table to retrieve all the rows where the total_votes count is equal to or greater than 20 to pick reviews that are more likely to be helpful and to avoid having division by zero errors later on.\n",
        "from pyspark.sql.functions import col\n",
        "total_votes_df = vine_df.filter(col(\"total_votes\") >= 20)\n",
        "total_votes_df.show()"
      ],
      "metadata": {
        "colab": {
          "base_uri": "https://localhost:8080/"
        },
        "id": "B6Hp1mqzjGhp",
        "outputId": "cdcdf9b0-9ed3-43b5-e5d8-944e2d7a83ca"
      },
      "execution_count": 5,
      "outputs": [
        {
          "output_type": "stream",
          "name": "stdout",
          "text": [
            "+--------------+-----------+----+-----------------+-------------+-----------+\n",
            "|     review_id|star_rating|vine|verified_purchase|helpful_votes|total_votes|\n",
            "+--------------+-----------+----+-----------------+-------------+-----------+\n",
            "| R4PKAZRQJJX14|          1|   N|                N|           21|         34|\n",
            "|R2CI0Y288CC7E2|          1|   N|                Y|           21|         35|\n",
            "|R127WEQY2FM1T3|          1|   N|                Y|          147|        175|\n",
            "|R3EZ0EPYLDA34S|          1|   N|                Y|           14|         31|\n",
            "|R2FJ94555FZH32|          2|   N|                N|           55|         60|\n",
            "|R1U3AR67RE273L|          1|   N|                Y|           51|         65|\n",
            "|R3PZOXA5X1U8KW|          4|   N|                N|           31|         36|\n",
            "| R6KTC1OPIOIIG|          2|   N|                Y|           19|         34|\n",
            "|R36O341WWXXKNP|          5|   N|                N|           28|         31|\n",
            "|R3GSK9MM8DNOYI|          1|   N|                N|            4|         32|\n",
            "|R10LZVBLQHBVJ0|          2|   N|                N|          151|        198|\n",
            "|R1VR5GLGY1GE7N|          1|   N|                Y|           49|         51|\n",
            "|R3GUUC6NT4QMCL|          1|   N|                N|            5|         36|\n",
            "|R1ZSD020RT18I5|          1|   N|                N|            7|        139|\n",
            "|R113X48B575ASY|          1|   N|                N|           15|         45|\n",
            "| RJLYLGRYH7SFQ|          1|   N|                N|           34|        116|\n",
            "|R2OWDAR0EDEPTF|          1|   N|                N|           23|         28|\n",
            "|R3CICXKAHN6NUD|          1|   N|                Y|            0|         23|\n",
            "|R29BOS5HMAY1LO|          5|   N|                N|           88|        110|\n",
            "| R8WD0136CETA7|          2|   N|                N|           99|        119|\n",
            "+--------------+-----------+----+-----------------+-------------+-----------+\n",
            "only showing top 20 rows\n",
            "\n"
          ]
        }
      ]
    },
    {
      "cell_type": "code",
      "source": [
        "# Filter the new DataFrame or table created in Step 1 and create a new DataFrame or table to retrieve all the rows where the number of helpful_votes divided by total_votes is equal to or greater than 50%.\n",
        "vote_percent_df = total_votes_df.withColumn('vote_percent', col('helpful_votes')/col('total_votes')).alias('vote_percent').filter(col(\"vote_percent\") >= 0.5)\n",
        "vote_percent_df.show()"
      ],
      "metadata": {
        "colab": {
          "base_uri": "https://localhost:8080/"
        },
        "id": "DO2a_J3V_keA",
        "outputId": "1f9969b2-a760-4431-ab82-8ed51a2fcf28"
      },
      "execution_count": 10,
      "outputs": [
        {
          "output_type": "stream",
          "name": "stdout",
          "text": [
            "+--------------+-----------+----+-----------------+-------------+-----------+------------------+\n",
            "|     review_id|star_rating|vine|verified_purchase|helpful_votes|total_votes|      vote_percent|\n",
            "+--------------+-----------+----+-----------------+-------------+-----------+------------------+\n",
            "| R4PKAZRQJJX14|          1|   N|                N|           21|         34|0.6176470588235294|\n",
            "|R2CI0Y288CC7E2|          1|   N|                Y|           21|         35|               0.6|\n",
            "|R127WEQY2FM1T3|          1|   N|                Y|          147|        175|              0.84|\n",
            "|R2FJ94555FZH32|          2|   N|                N|           55|         60|0.9166666666666666|\n",
            "|R1U3AR67RE273L|          1|   N|                Y|           51|         65|0.7846153846153846|\n",
            "|R3PZOXA5X1U8KW|          4|   N|                N|           31|         36|0.8611111111111112|\n",
            "| R6KTC1OPIOIIG|          2|   N|                Y|           19|         34|0.5588235294117647|\n",
            "|R36O341WWXXKNP|          5|   N|                N|           28|         31|0.9032258064516129|\n",
            "|R10LZVBLQHBVJ0|          2|   N|                N|          151|        198|0.7626262626262627|\n",
            "|R1VR5GLGY1GE7N|          1|   N|                Y|           49|         51|0.9607843137254902|\n",
            "|R2OWDAR0EDEPTF|          1|   N|                N|           23|         28|0.8214285714285714|\n",
            "|R29BOS5HMAY1LO|          5|   N|                N|           88|        110|               0.8|\n",
            "| R8WD0136CETA7|          2|   N|                N|           99|        119|0.8319327731092437|\n",
            "|R16621F16PQN5A|          3|   N|                Y|           24|         31|0.7741935483870968|\n",
            "|R1LXBPG1M9DDOC|          1|   N|                N|          102|        106|0.9622641509433962|\n",
            "| RNEMGSUKJ4535|          2|   N|                Y|           21|         25|              0.84|\n",
            "|R3R2UKBFKP1IQ4|          1|   N|                Y|           19|         23|0.8260869565217391|\n",
            "|R2T90XM5G2DBZA|          3|   N|                Y|           15|         22|0.6818181818181818|\n",
            "| R5ZMK0Y0KRBRZ|          1|   N|                N|           79|         91|0.8681318681318682|\n",
            "|R12E2W0XOV3I2S|          1|   N|                Y|           24|         30|               0.8|\n",
            "+--------------+-----------+----+-----------------+-------------+-----------+------------------+\n",
            "only showing top 20 rows\n",
            "\n"
          ]
        }
      ]
    },
    {
      "cell_type": "code",
      "source": [
        "# Filter the DataFrame or table created in Step 2, and create a new DataFrame or table that retrieves all the rows where a review was written as part of the Vine program (paid), vine == 'Y'.\n",
        "paid_review_df = vote_percent_df.filter(col(\"vine\") == \"Y\").show()"
      ],
      "metadata": {
        "colab": {
          "base_uri": "https://localhost:8080/"
        },
        "id": "AJJDPDKBhEpa",
        "outputId": "c31a1953-8894-4209-e720-53b423db9f12"
      },
      "execution_count": 11,
      "outputs": [
        {
          "output_type": "stream",
          "name": "stdout",
          "text": [
            "+--------------+-----------+----+-----------------+-------------+-----------+------------------+\n",
            "|     review_id|star_rating|vine|verified_purchase|helpful_votes|total_votes|      vote_percent|\n",
            "+--------------+-----------+----+-----------------+-------------+-----------+------------------+\n",
            "|R3KKUSGFZWSUIY|          5|   Y|                N|           56|         63|0.8888888888888888|\n",
            "|R10FO5UKKVZBK2|          3|   Y|                N|           23|         23|               1.0|\n",
            "| RM4KSGEOR7MU1|          5|   Y|                N|           19|         24|0.7916666666666666|\n",
            "| RG7VRMYLEXD23|          4|   Y|                N|           22|         26|0.8461538461538461|\n",
            "|R11O4YSCPSNL6L|          3|   Y|                N|           20|         26|0.7692307692307693|\n",
            "|R286MFBAJ8NPD6|          5|   Y|                N|           46|         51|0.9019607843137255|\n",
            "|R1JRR530H4COA2|          5|   Y|                N|           22|         28|0.7857142857142857|\n",
            "| RQ5WD90PUNBU9|          5|   Y|                N|           21|         24|             0.875|\n",
            "|R12648VHCQWUV9|          4|   Y|                N|           21|         28|              0.75|\n",
            "|R3KAW29CJ8L6DQ|          5|   Y|                N|           17|         20|              0.85|\n",
            "|R1OWK33OPI45KT|          5|   Y|                N|           55|         58|0.9482758620689655|\n",
            "|R2UP7VTED8O425|          5|   Y|                N|           35|         41|0.8536585365853658|\n",
            "|R3N4QAXTQCA1ED|          5|   Y|                N|           18|         20|               0.9|\n",
            "|R3EPHK0JGQGE91|          5|   Y|                N|           21|         28|              0.75|\n",
            "| RCP3KRO47S0GG|          4|   Y|                N|           51|         58|0.8793103448275862|\n",
            "|R3JT907UUA1WUI|          4|   Y|                N|           85|        103|0.8252427184466019|\n",
            "| RY0555ILXIYXW|          5|   Y|                N|           38|         50|              0.76|\n",
            "|R24PS9N276OXF4|          5|   Y|                N|          241|        262|0.9198473282442748|\n",
            "|R3R0F8ETAGTIOT|          5|   Y|                N|           14|         20|               0.7|\n",
            "| ROXZOMHBY8Y9S|          4|   Y|                N|           21|         23|0.9130434782608695|\n",
            "+--------------+-----------+----+-----------------+-------------+-----------+------------------+\n",
            "only showing top 20 rows\n",
            "\n"
          ]
        }
      ]
    },
    {
      "cell_type": "code",
      "source": [
        "# Repeat above, but this time retrieve all the rows where the review was not part of the Vine program (unpaid), vine == 'N'.\n",
        "unpaid_review_df = vote_percent_df.filter(col(\"vine\") == \"N\").show()"
      ],
      "metadata": {
        "colab": {
          "base_uri": "https://localhost:8080/"
        },
        "id": "L-VyI2FZhkRS",
        "outputId": "7e9ec111-f891-4863-b95a-0a4a2008e785"
      },
      "execution_count": 12,
      "outputs": [
        {
          "output_type": "stream",
          "name": "stdout",
          "text": [
            "+--------------+-----------+----+-----------------+-------------+-----------+------------------+\n",
            "|     review_id|star_rating|vine|verified_purchase|helpful_votes|total_votes|      vote_percent|\n",
            "+--------------+-----------+----+-----------------+-------------+-----------+------------------+\n",
            "| R4PKAZRQJJX14|          1|   N|                N|           21|         34|0.6176470588235294|\n",
            "|R2CI0Y288CC7E2|          1|   N|                Y|           21|         35|               0.6|\n",
            "|R127WEQY2FM1T3|          1|   N|                Y|          147|        175|              0.84|\n",
            "|R2FJ94555FZH32|          2|   N|                N|           55|         60|0.9166666666666666|\n",
            "|R1U3AR67RE273L|          1|   N|                Y|           51|         65|0.7846153846153846|\n",
            "|R3PZOXA5X1U8KW|          4|   N|                N|           31|         36|0.8611111111111112|\n",
            "| R6KTC1OPIOIIG|          2|   N|                Y|           19|         34|0.5588235294117647|\n",
            "|R36O341WWXXKNP|          5|   N|                N|           28|         31|0.9032258064516129|\n",
            "|R10LZVBLQHBVJ0|          2|   N|                N|          151|        198|0.7626262626262627|\n",
            "|R1VR5GLGY1GE7N|          1|   N|                Y|           49|         51|0.9607843137254902|\n",
            "|R2OWDAR0EDEPTF|          1|   N|                N|           23|         28|0.8214285714285714|\n",
            "|R29BOS5HMAY1LO|          5|   N|                N|           88|        110|               0.8|\n",
            "| R8WD0136CETA7|          2|   N|                N|           99|        119|0.8319327731092437|\n",
            "|R16621F16PQN5A|          3|   N|                Y|           24|         31|0.7741935483870968|\n",
            "|R1LXBPG1M9DDOC|          1|   N|                N|          102|        106|0.9622641509433962|\n",
            "| RNEMGSUKJ4535|          2|   N|                Y|           21|         25|              0.84|\n",
            "|R3R2UKBFKP1IQ4|          1|   N|                Y|           19|         23|0.8260869565217391|\n",
            "|R2T90XM5G2DBZA|          3|   N|                Y|           15|         22|0.6818181818181818|\n",
            "| R5ZMK0Y0KRBRZ|          1|   N|                N|           79|         91|0.8681318681318682|\n",
            "|R12E2W0XOV3I2S|          1|   N|                Y|           24|         30|               0.8|\n",
            "+--------------+-----------+----+-----------------+-------------+-----------+------------------+\n",
            "only showing top 20 rows\n",
            "\n"
          ]
        }
      ]
    },
    {
      "cell_type": "code",
      "source": [
        "# Determine the total number of reviews, the number of 5-star reviews, and the percentage of 5-star reviews for the two types of review (paid vs unpaid).\n",
        "from pyspark.sql.functions import col,when,count,lit\n",
        "reviews_df = vote_percent_df.groupBy(\"vine\").agg(\n",
        "    count(col(\"vine\")).alias(\"review_total\"),\n",
        "    count(when(col(\"star_rating\") == 5, True)).alias(\"5star_reviews\"),\n",
        "    (count(when(col(\"star_rating\") == 5, True))/count(col(\"vine\"))*100).alias(\"5star_reviews_percent\")).show()"
      ],
      "metadata": {
        "colab": {
          "base_uri": "https://localhost:8080/"
        },
        "id": "GuoqHZOTh2M5",
        "outputId": "f9b31ad6-c413-49a7-c45a-bc95f6326c4f"
      },
      "execution_count": 13,
      "outputs": [
        {
          "output_type": "stream",
          "name": "stdout",
          "text": [
            "+----+------------+-------------+---------------------+\n",
            "|vine|review_total|5star_reviews|5star_reviews_percent|\n",
            "+----+------------+-------------+---------------------+\n",
            "|   Y|          94|           48|    51.06382978723404|\n",
            "|   N|       40471|        15663|   38.701786464381904|\n",
            "+----+------------+-------------+---------------------+\n",
            "\n"
          ]
        }
      ]
    },
    {
      "cell_type": "code",
      "source": [
        ""
      ],
      "metadata": {
        "id": "JusFJLNoif5e"
      },
      "execution_count": null,
      "outputs": []
    }
  ]
}